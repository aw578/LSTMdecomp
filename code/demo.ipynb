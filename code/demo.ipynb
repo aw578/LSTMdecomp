{
 "cells": [
  {
   "cell_type": "markdown",
   "metadata": {},
   "source": [
    "Requires: python==3.7, pytorch==1.13.1\n",
    "\n",
    "Download English LSTM model and vocab file from https://github.com/facebookresearch/colorlessgreenRNNs/tree/main/data"
   ]
  },
  {
   "cell_type": "code",
   "execution_count": 1,
   "metadata": {},
   "outputs": [
    {
     "name": "stderr",
     "output_type": "stream",
     "text": [
      "/Library/Frameworks/Python.framework/Versions/3.7/lib/python3.7/site-packages/tqdm/auto.py:21: TqdmWarning: IProgress not found. Please update jupyter and ipywidgets. See https://ipywidgets.readthedocs.io/en/stable/user_install.html\n",
      "  from .autonotebook import tqdm as notebook_tqdm\n"
     ]
    },
    {
     "name": "stdout",
     "output_type": "stream",
     "text": [
      "loaded model onto cpu\n"
     ]
    },
    {
     "name": "stderr",
     "output_type": "stream",
     "text": [
      "/Library/Frameworks/Python.framework/Versions/3.7/lib/python3.7/site-packages/torch/serialization.py:868: SourceChangeWarning: source code of class 'model.RNNModel' has changed. you can retrieve the original source code by accessing the object's source attribute or set `torch.nn.Module.dump_patches = True` and use the patch tool to revert the changes.\n",
      "  warnings.warn(msg, SourceChangeWarning)\n",
      "/Library/Frameworks/Python.framework/Versions/3.7/lib/python3.7/site-packages/torch/serialization.py:868: SourceChangeWarning: source code of class 'torch.nn.modules.dropout.Dropout' has changed. you can retrieve the original source code by accessing the object's source attribute or set `torch.nn.Module.dump_patches = True` and use the patch tool to revert the changes.\n",
      "  warnings.warn(msg, SourceChangeWarning)\n",
      "/Library/Frameworks/Python.framework/Versions/3.7/lib/python3.7/site-packages/torch/serialization.py:868: SourceChangeWarning: source code of class 'torch.nn.modules.sparse.Embedding' has changed. you can retrieve the original source code by accessing the object's source attribute or set `torch.nn.Module.dump_patches = True` and use the patch tool to revert the changes.\n",
      "  warnings.warn(msg, SourceChangeWarning)\n",
      "/Library/Frameworks/Python.framework/Versions/3.7/lib/python3.7/site-packages/torch/serialization.py:868: SourceChangeWarning: source code of class 'torch.nn.modules.rnn.LSTM' has changed. you can retrieve the original source code by accessing the object's source attribute or set `torch.nn.Module.dump_patches = True` and use the patch tool to revert the changes.\n",
      "  warnings.warn(msg, SourceChangeWarning)\n",
      "/Library/Frameworks/Python.framework/Versions/3.7/lib/python3.7/site-packages/torch/serialization.py:868: SourceChangeWarning: source code of class 'torch.nn.modules.linear.Linear' has changed. you can retrieve the original source code by accessing the object's source attribute or set `torch.nn.Module.dump_patches = True` and use the patch tool to revert the changes.\n",
      "  warnings.warn(msg, SourceChangeWarning)\n"
     ]
    }
   ],
   "source": [
    "import util\n",
    "\n",
    "# get model\n",
    "path = '../data/model/model.pt'\n",
    "model = util.load_model(path)"
   ]
  },
  {
   "cell_type": "code",
   "execution_count": 2,
   "metadata": {},
   "outputs": [
    {
     "name": "stdout",
     "output_type": "stream",
     "text": [
      "../data/text/ff_unambiguous.txt\n",
      "../data/text/fm_unambiguous.txt\n",
      "../data/text/mf_unambiguous.txt\n",
      "../data/text/mm_unambiguous.txt\n",
      "../data/text/fm_stereotypical.txt\n",
      "../data/text/mf_stereotypical.txt\n"
     ]
    }
   ],
   "source": [
    "# import sentence files and tokenize using vocab.txt\n",
    "\n",
    "from dictionary import Dictionary\n",
    "\n",
    "dict = Dictionary(\"../data/model/vocab.txt\")\n",
    "\n",
    "files = [\n",
    "    \"ff_unambiguous.txt\",\n",
    "    \"fm_unambiguous.txt\",\n",
    "    \"mf_unambiguous.txt\",\n",
    "    \"mm_unambiguous.txt\",\n",
    "    \"fm_stereotypical.txt\",\n",
    "    \"mf_stereotypical.txt\"\n",
    "    ]\n",
    "\n",
    "data = []\n",
    "for f in files:\n",
    "    path = \"../data/text/\" + f\n",
    "    loc_path = \"../data/text/locations_\" + f\n",
    "    print(path)\n",
    "\n",
    "    tokens = dict.tokenize(path)\n",
    "\n",
    "    with open(loc_path, \"r\") as loc:\n",
    "        locations = loc.readlines()\n",
    "        locations = list(map(lambda x: \n",
    "                             list(map(int, x.strip().split())), \n",
    "                             locations))\n",
    "    \n",
    "    data.append((f, tokens, locations))\n"
   ]
  },
  {
   "cell_type": "code",
   "execution_count": 4,
   "metadata": {},
   "outputs": [
    {
     "name": "stdout",
     "output_type": "stream",
     "text": [
      "ff_unambiguous.txt\n",
      "tensor([0.2547, 0.3643, 0.2709, 0.3617])\n",
      "fm_unambiguous.txt\n",
      "tensor([-0.0089,  0.1222,  0.1563,  0.1333])\n",
      "mf_unambiguous.txt\n",
      "tensor([0.1247, 0.1029, 0.0292, 0.1230])\n",
      "mm_unambiguous.txt\n",
      "tensor([ 0.0364,  0.0052,  0.0556, -0.0215])\n",
      "fm_stereotypical.txt\n",
      "tensor([0.0364, 0.0304, 0.0501, 0.0501])\n",
      "mf_stereotypical.txt\n",
      "tensor([ 0.0567, -0.0224,  0.0349,  0.0349])\n"
     ]
    }
   ],
   "source": [
    "# get gender contributions (original paper figure 4)\n",
    "\n",
    "import gender_bias\n",
    "import torch\n",
    "\n",
    "for file, tokens, locations in data:\n",
    "    bias = torch.zeros((4,))\n",
    "    for ts, locs in zip(tokens, locations):\n",
    "        ts = ts.unsqueeze(1)\n",
    "        s1, s2, o1, o2 = locs\n",
    "        bias += torch.tensor(gender_bias.get_bias(model, ts, s1, s2, o1, o2))\n",
    "    print(file)\n",
    "    print(bias / len(tokens))\n",
    "    "
   ]
  },
  {
   "cell_type": "code",
   "execution_count": 4,
   "metadata": {},
   "outputs": [
    {
     "name": "stdout",
     "output_type": "stream",
     "text": [
      "ff_unambiguous.txt\n",
      "tensor([0.2807, 0.0000, 0.9474, 0.0000, 0.9825, 1.0000, 1.0000])\n",
      "fm_unambiguous.txt\n",
      "tensor([0.3974, 0.0000, 0.3590, 0.8333, 0.9744, 0.9872, 0.9872])\n",
      "mf_unambiguous.txt\n",
      "tensor([0.3718, 0.4744, 0.9872, 0.1154, 0.6282, 0.9872, 0.9872])\n",
      "mm_unambiguous.txt\n",
      "tensor([1.0000, 0.7115, 1.0000, 0.9615, 1.0000, 1.0000, 1.0000])\n",
      "fm_stereotypical.txt\n",
      "tensor([0.8571, 0.7143, 0.8095, 1.0000, 1.0000, 1.0000, 1.0000])\n",
      "mf_stereotypical.txt\n",
      "tensor([0.9426, 0.8115, 1.0000, 1.0000, 1.0000, 1.0000, 1.0000])\n"
     ]
    }
   ],
   "source": [
    "# get gender predictions (original paper table 2)\n",
    "\n",
    "import gender_bias\n",
    "import torch\n",
    "\n",
    "for file, tokens, locations in data:\n",
    "    predictions = torch.zeros((7,))\n",
    "    for ts, locs in zip(tokens, locations):\n",
    "        ts = ts.unsqueeze(1)\n",
    "        s1, s2, o1, o2 = locs\n",
    "        predictions += torch.Tensor(gender_bias.predict_gender(model, ts, s1, s2, o1, o2))\n",
    "    print(file)\n",
    "    # full, subj, subj_bias, obj, obj_bias, intercept, intercept_bias\n",
    "    print(predictions / len(tokens))\n",
    "    "
   ]
  }
 ],
 "metadata": {
  "anaconda-cloud": {},
  "kernelspec": {
   "display_name": "Python 3",
   "language": "python",
   "name": "python3"
  },
  "language_info": {
   "codemirror_mode": {
    "name": "ipython",
    "version": 3
   },
   "file_extension": ".py",
   "mimetype": "text/x-python",
   "name": "python",
   "nbconvert_exporter": "python",
   "pygments_lexer": "ipython3",
   "version": "3.7.9"
  }
 },
 "nbformat": 4,
 "nbformat_minor": 2
}
